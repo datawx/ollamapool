{
 "cells": [
  {
   "cell_type": "code",
   "execution_count": 1,
   "metadata": {},
   "outputs": [
    {
     "name": "stdout",
     "output_type": "stream",
     "text": [
      "Environment Variables are set OK\n"
     ]
    }
   ],
   "source": [
    "#OLLAMAPool Server Prototype Code\n",
    "import os\n",
    "EndPoint_Queries=os.environ.get('EndPoint_Queries')\n",
    "Endpoint_Results=os.environ.get('Endpoint_Results')\n",
    "EndPoint_NodeStatus=os.environ.get('EndPoint_NodeStatus')\n",
    "\n",
    "#Assert if the environment variables are set\n",
    "if EndPoint_Queries is None:\n",
    "    raise ValueError(\"EndPoint_Queries is not set\")\n",
    "if Endpoint_Results is None:\n",
    "    raise ValueError(\"Endpoint_Results is not set\")\n",
    "if EndPoint_NodeStatus is None:\n",
    "    raise ValueError(\"EndPoint_NodeStatus is not set\")\n",
    "print(\"Environment Variables are set OK\")"
   ]
  },
  {
   "cell_type": "code",
   "execution_count": 25,
   "metadata": {},
   "outputs": [],
   "source": [
    "#Busines Classes\n",
    "\n",
    "import json\n",
    "from typing import List\n",
    "import uuid\n",
    "from azure.servicebus import ServiceBusClient, ServiceBusMessage\n",
    "\n",
    "class LLMRequest:\n",
    "    def __init__(self,Model:str=\"\",systemMessage:str=\"\",query:str=\"\"):\n",
    "        self.UUID=str(uuid.uuid4())\n",
    "        self.Model=Model\n",
    "        self.systemMessage=systemMessage\n",
    "        self.query=query\n",
    "\n",
    "    def to_json(self):\n",
    "        return self.__dict__\n",
    "    \n",
    "    def from_json(self,json_str):\n",
    "        self.__dict__=json.loads(json_str)\n",
    "        \n",
    "class LLMResult:\n",
    "    def __init__(self,UUID:str=\"\",result:str=\"\",errorMsg:str=\"\",timeDelta:str=\"\"):\n",
    "        self.UUID=UUID\n",
    "        self.result=result\n",
    "        self.errorMsg=errorMsg\n",
    "        self.HasError=errorMsg!=\"\"\n",
    "        self.timeDelta=timeDelta\n",
    "\n",
    "    def to_json(self):\n",
    "        return self.__dict__\n",
    "    \n",
    "    def from_json(self,json_str):\n",
    "        self.__dict__=json.loads(json_str)\n",
    "    "
   ]
  },
  {
   "cell_type": "code",
   "execution_count": 26,
   "metadata": {},
   "outputs": [],
   "source": [
    "#Ollama Processing Code\n",
    "import datetime\n",
    "from ollama import Client\n",
    "client = Client(host='http://localhost:11434')\n",
    "#client.pull(\"llama3.1\")\n",
    "\n",
    "def ProcessLLMRequest(request:LLMRequest)->LLMResult:\n",
    "    print(\"Processing Request \"+request.UUID)\n",
    "    print(request.to_json())\n",
    "    #ret=client.generate(request.query)\n",
    "    \n",
    "    #Start timer\n",
    "    timerStart=datetime.datetime.now()\n",
    "    \n",
    "    \n",
    "    ret = client.chat(\n",
    "        model='llama3.1',\n",
    "        messages=[{'role': 'system', 'content': request.systemMessage},\n",
    "        {'role': 'user', 'content': request.query}],\n",
    "        stream=False)\n",
    "    \n",
    "    timerEnd=datetime.datetime.now()\n",
    "    timeDelta=timerEnd-timerStart\n",
    "    \n",
    "    result=LLMResult(UUID=request.UUID,result=ret,timeDelta=str(timeDelta))\n",
    "    return result\n",
    "    \n"
   ]
  },
  {
   "cell_type": "code",
   "execution_count": 30,
   "metadata": {},
   "outputs": [
    {
     "name": "stdout",
     "output_type": "stream",
     "text": [
      "Receiving messages from the queue...\n",
      "Received message: {\"UUID\": \"5980331b-2dc3-49b2-9b6a-fee4e25eba8c\", \"Model\": \"llama3.1\", \"systemMessage\": \"You are a science fiction fantasy writer writing beautifully creative descriptions from a list of character traits. \\nYou have a list of character traits, be creative and expand on this (going so far as to write a short background story if you wish).\\n\", \"query\": \"They have the followng traits:\\nrace: halfling\\ncomplection: pale\\nheight: tall\\nbuild: muscular\\nfeature: sharp\\neye: dull\\nhair: wavy\\nclothes: tattered\\nsophistication: refined\\nmannerism: boisterous\\nvirtue: kind\\n\"}\n",
      "They have the followng traits:\n",
      "race: halfling\n",
      "complection: pale\n",
      "height: tall\n",
      "build: muscular\n",
      "feature: sharp\n",
      "eye: dull\n",
      "hair: wavy\n",
      "clothes: tattered\n",
      "sophistication: refined\n",
      "mannerism: boisterous\n",
      "virtue: kind\n",
      "\n",
      "Processing Request 5980331b-2dc3-49b2-9b6a-fee4e25eba8c\n",
      "{'UUID': '5980331b-2dc3-49b2-9b6a-fee4e25eba8c', 'Model': 'llama3.1', 'systemMessage': 'You are a science fiction fantasy writer writing beautifully creative descriptions from a list of character traits. \\nYou have a list of character traits, be creative and expand on this (going so far as to write a short background story if you wish).\\n', 'query': 'They have the followng traits:\\nrace: halfling\\ncomplection: pale\\nheight: tall\\nbuild: muscular\\nfeature: sharp\\neye: dull\\nhair: wavy\\nclothes: tattered\\nsophistication: refined\\nmannerism: boisterous\\nvirtue: kind\\n'}\n",
      "{'UUID': '5980331b-2dc3-49b2-9b6a-fee4e25eba8c', 'result': {'model': 'llama3.1', 'created_at': '2024-09-22T12:24:49.263268979Z', 'message': {'role': 'assistant', 'content': 'What a delightful mashup of traits! Let me see...\\n\\nMeet Bramble Burrowes, the tallest and most muscular halfling to ever emerge from the rolling hills of the countryside. His pale complexion seemed almost otherworldly against the rich earthy tones that surrounded him, as if he had been plucked from the very soil itself and set down among the living.\\n\\nBramble\\'s height was a peculiarity among his kin, where most halflings were content to be sturdy and compact, with nary an inch of spare space on their frame. Not Bramble, however - his broad shoulders and chiseled physique spoke of a life spent in the physical arts, perhaps as a blacksmith or a woodcutter. And yet, despite his rugged build, there was something delicate about him, a sharpness to his features that defied expectation.\\n\\nHis eyes, dull gray and unremarkable at first glance, held a deep wellspring of kindness within them. They seemed to shine with an inner light when he smiled, which was often, given his boisterous mannerisms. Bramble loved nothing more than to burst into song or tell a tall tale around the campfire, drawing in listeners from far and wide with his infectious enthusiasm.\\n\\nHis hair, wavy and unkempt, framed his sharp face like a tousled halo. It was the kind of look that said \"I\\'ve been up for three days, but I\\'m still having the time of my life.\" And yet, despite its unruly appearance, Bramble\\'s locks were soft as silk to the touch.\\n\\nHis clothes, tattered and worn from countless adventures, told their own tale. They had been a crisp white and blue once, but now they hung in shreds around his broad frame, like a badge of honor rather than a sign of neglect. A frayed hem here, a button missing there - it was as if Bramble\\'s very soul was woven into the fabric itself.\\n\\nAnd yet, amidst all this rustic charm, there lurked a refined and sophisticated air about him, like a delicate flower blooming in the midst of a rough-and-tumble life. This, I surmised, was what had drawn me to Bramble in the first place - his contradictions, his paradoxes, were as intriguing as they were endearing.\\n\\nAs for how he came by these disparate traits... Well, that\\'s a story worth telling, one that began on a fateful night when Bramble stumbled upon an ancient tome hidden deep within the roots of an ancient tree. The book itself was bound in worn leather and adorned with intricate runes that seemed to shift and writhe like living things.\\n\\nAs he opened its cover, a puff of misty air wafted out, carrying the whispers of forgotten lore on its gentle breeze. Bramble\\'s eyes had shone bright with wonder as he delved into the book\\'s yellowed pages, whereupon he discovered a secret: that even the most hardened, battle-scarred warriors could possess hearts full of kindness and souls infused with refined sensibility.\\n\\nFrom that day forward, Bramble vowed to embody this paradoxical spirit - to be strong yet gentle, fierce yet kind. And so it was that I came to know him as the greatest contradiction in all the land: a towering halfling with a heart of gold and a penchant for the most outlandish tales, whose tattered clothes told only half the story of the man himself.'}, 'done_reason': 'stop', 'done': True, 'total_duration': 6720958681, 'load_duration': 12691507, 'prompt_eval_count': 130, 'prompt_eval_duration': 82327000, 'eval_count': 703, 'eval_duration': 6483359000}, 'errorMsg': '', 'HasError': False, 'timeDelta': '0:00:06.724060'}\n"
     ]
    }
   ],
   "source": [
    "#Main Message Handling Loop\n",
    "import time\n",
    "from typing import List\n",
    "from azure.servicebus import ServiceBusClient, ServiceBusMessage\n",
    "\n",
    "# Replace with your connection string and queue name\n",
    "queue_name = \"llm-queries\"\n",
    "\n",
    "# Create a Service Bus client\n",
    "servicebus_client = ServiceBusClient.from_connection_string(conn_str=EndPoint_Queries)\n",
    "\n",
    "def receive_messages_from_queue():\n",
    "    # Create a receiver for the queue\n",
    "    with servicebus_client.get_queue_receiver(queue_name=queue_name) as receiver:\n",
    "        print(\"Receiving messages from the queue...\")\n",
    "        \n",
    "        # Receive messages in a batch, you can specify max_message_count as needed\n",
    "        received_msgs = receiver.receive_messages(max_message_count=1, max_wait_time=5)\n",
    "\n",
    "        for msg in received_msgs:\n",
    "            # Print the message payload\n",
    "            print(f\"Received message: {str(msg)}\")\n",
    "            \n",
    "            llmRequest=LLMRequest()\n",
    "            llmRequest.from_json(str(msg))\n",
    "            print(llmRequest.query)\n",
    "            result=ProcessLLMRequest(llmRequest)\n",
    "            print(result.to_json())\n",
    "            \n",
    "            # Accept the message to remove it from the queue\n",
    "            receiver.complete_message(msg)\n",
    "\n",
    "# Call the function to read from the queue\n",
    "receive_messages_from_queue()\n"
   ]
  }
 ],
 "metadata": {
  "kernelspec": {
   "display_name": "pyTorchCUDA",
   "language": "python",
   "name": "python3"
  },
  "language_info": {
   "codemirror_mode": {
    "name": "ipython",
    "version": 3
   },
   "file_extension": ".py",
   "mimetype": "text/x-python",
   "name": "python",
   "nbconvert_exporter": "python",
   "pygments_lexer": "ipython3",
   "version": "3.9.12"
  }
 },
 "nbformat": 4,
 "nbformat_minor": 2
}
