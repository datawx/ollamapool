{
 "cells": [
  {
   "cell_type": "code",
   "execution_count": 1,
   "metadata": {},
   "outputs": [
    {
     "name": "stdout",
     "output_type": "stream",
     "text": [
      "Environment Variables are set OK\n"
     ]
    }
   ],
   "source": [
    "#OLLAMAPool Server Prototype Code\n",
    "import os\n",
    "EndPoint_Queries=os.environ.get('EndPoint_Queries')\n",
    "Endpoint_Results=os.environ.get('Endpoint_Results')\n",
    "EndPoint_NodeStatus=os.environ.get('EndPoint_NodeStatus')\n",
    "\n",
    "#Assert if the environment variables are set\n",
    "if EndPoint_Queries is None:\n",
    "    raise ValueError(\"EndPoint_Queries is not set\")\n",
    "if Endpoint_Results is None:\n",
    "    raise ValueError(\"Endpoint_Results is not set\")\n",
    "if EndPoint_NodeStatus is None:\n",
    "    raise ValueError(\"EndPoint_NodeStatus is not set\")\n",
    "print(\"Environment Variables are set OK\")\n"
   ]
  },
  {
   "cell_type": "code",
   "execution_count": 2,
   "metadata": {},
   "outputs": [
    {
     "name": "stdout",
     "output_type": "stream",
     "text": [
      "They have the followng traits:\n",
      "race: gnome\n",
      "complection: swarthy\n",
      "height: short\n",
      "build: slender\n",
      "feature: angular\n",
      "eye: dark\n",
      "hair: straight\n",
      "clothes: fine\n",
      "sophistication: simple\n",
      "mannerism: clumsy\n",
      "virtue: kind\n",
      "\n"
     ]
    }
   ],
   "source": [
    "#Example Use case -> character description generator for fantasy RPG\n",
    "#Takes a random dictionary of character traits and generates a written character description\n",
    "\n",
    "races=[\"elf\",\"human\",\"dwarf\",\"halfling\",\"gnome\"]\n",
    "complections=[\"pale\",\"dark\",\"fair\",\"ruddy\",\"swarthy\"]\n",
    "heights=[\"tall\",\"short\",\"average\"]\n",
    "builds=[\"slender\",\"stocky\",\"muscular\",\"portly\"]\n",
    "features=[\"sharp\",\"soft\",\"angular\",\"round\"]\n",
    "eyes=[\"bright\",\"dark\",\"piercing\",\"dull\"]\n",
    "hairs=[\"long\",\"short\",\"curly\",\"straight\",\"wavy\"]\n",
    "clothes=[\"fine\",\"simple\",\"elegant\",\"gaudy\",\"tattered\"]\n",
    "sophistication=[\"refined\",\"crude\",\"simple\",\"complex\"]\n",
    "mannerisms=[\"graceful\",\"clumsy\",\"boisterous\",\"quiet\"]\n",
    "virtues=[\"honest\",\"loyal\",\"brave\",\"generous\",\"kind\"]\n",
    "\n",
    "\n",
    "import random\n",
    "\n",
    "#Come up with a random dictionary of character traits\n",
    "def GenerateCharacterDescDictionary():\n",
    "    traits={}\n",
    "    race=random.choice(races)\n",
    "    complection=random.choice(complections)\n",
    "    height=random.choice(heights)\n",
    "    build=random.choice(builds)\n",
    "    feature=random.choice(features)\n",
    "    eye=random.choice(eyes)\n",
    "    hair=random.choice(hairs)\n",
    "    clothe=random.choice(clothes)\n",
    "    sophisticate=random.choice(sophistication)\n",
    "    mannerism=random.choice(mannerisms)\n",
    "    virtue=random.choice(virtues)\n",
    "    traits={\"race\":race,\"complection\":complection,\"height\":height,\"build\":build,\"feature\":feature,\"eye\":eye,\"hair\":hair,\"clothes\":clothe,\"sophistication\":sophisticate,\"mannerism\":mannerism,\"virtue\":virtue}\n",
    "    return traits\n",
    "\n",
    "#Turn the dictionary into a line separated string\n",
    "def GenerateCharacterDescList(traits):\n",
    "    desc=\"They have the followng traits:\\n\"\n",
    "    for key in traits:\n",
    "        desc+=key+\": \"+traits[key]+\"\\n\"\n",
    "    return desc\n",
    "    \n",
    "            \n",
    "    \n",
    "#Test code\n",
    "traits=GenerateCharacterDescDictionary()\n",
    "print(GenerateCharacterDescList(traits))\n"
   ]
  },
  {
   "cell_type": "code",
   "execution_count": 3,
   "metadata": {},
   "outputs": [
    {
     "data": {
      "text/plain": [
       "['They have the followng traits:\\nrace: gnome\\ncomplection: ruddy\\nheight: tall\\nbuild: muscular\\nfeature: sharp\\neye: dull\\nhair: curly\\nclothes: elegant\\nsophistication: refined\\nmannerism: clumsy\\nvirtue: brave\\n',\n",
       " 'They have the followng traits:\\nrace: halfling\\ncomplection: pale\\nheight: tall\\nbuild: muscular\\nfeature: round\\neye: bright\\nhair: long\\nclothes: fine\\nsophistication: simple\\nmannerism: graceful\\nvirtue: brave\\n',\n",
       " 'They have the followng traits:\\nrace: gnome\\ncomplection: fair\\nheight: average\\nbuild: portly\\nfeature: sharp\\neye: dark\\nhair: long\\nclothes: simple\\nsophistication: simple\\nmannerism: clumsy\\nvirtue: loyal\\n',\n",
       " 'They have the followng traits:\\nrace: elf\\ncomplection: dark\\nheight: average\\nbuild: slender\\nfeature: sharp\\neye: dark\\nhair: long\\nclothes: fine\\nsophistication: refined\\nmannerism: quiet\\nvirtue: honest\\n',\n",
       " 'They have the followng traits:\\nrace: human\\ncomplection: pale\\nheight: short\\nbuild: muscular\\nfeature: round\\neye: piercing\\nhair: short\\nclothes: simple\\nsophistication: crude\\nmannerism: clumsy\\nvirtue: kind\\n',\n",
       " 'They have the followng traits:\\nrace: elf\\ncomplection: pale\\nheight: average\\nbuild: muscular\\nfeature: round\\neye: bright\\nhair: curly\\nclothes: elegant\\nsophistication: crude\\nmannerism: boisterous\\nvirtue: kind\\n',\n",
       " 'They have the followng traits:\\nrace: gnome\\ncomplection: ruddy\\nheight: average\\nbuild: portly\\nfeature: round\\neye: bright\\nhair: long\\nclothes: fine\\nsophistication: complex\\nmannerism: clumsy\\nvirtue: brave\\n',\n",
       " 'They have the followng traits:\\nrace: elf\\ncomplection: dark\\nheight: average\\nbuild: muscular\\nfeature: soft\\neye: piercing\\nhair: straight\\nclothes: gaudy\\nsophistication: crude\\nmannerism: quiet\\nvirtue: generous\\n',\n",
       " 'They have the followng traits:\\nrace: gnome\\ncomplection: pale\\nheight: average\\nbuild: stocky\\nfeature: angular\\neye: dark\\nhair: straight\\nclothes: fine\\nsophistication: crude\\nmannerism: graceful\\nvirtue: generous\\n',\n",
       " 'They have the followng traits:\\nrace: halfling\\ncomplection: fair\\nheight: average\\nbuild: portly\\nfeature: soft\\neye: dull\\nhair: straight\\nclothes: gaudy\\nsophistication: complex\\nmannerism: quiet\\nvirtue: honest\\n']"
      ]
     },
     "execution_count": 3,
     "metadata": {},
     "output_type": "execute_result"
    }
   ],
   "source": [
    "#Produce sample character descriptions\n",
    "totalRecords=10\n",
    "requestTexts=[]\n",
    "for i in range(totalRecords):\n",
    "    traits=GenerateCharacterDescDictionary()\n",
    "    requestTexts.append(GenerateCharacterDescList(traits))\n",
    "requestTexts"
   ]
  },
  {
   "cell_type": "code",
   "execution_count": 4,
   "metadata": {},
   "outputs": [],
   "source": [
    "#Busines Classes\n",
    "import json\n",
    "from typing import List\n",
    "import uuid\n",
    "from azure.servicebus import ServiceBusClient, ServiceBusMessage\n",
    "\n",
    "class LLMRequest:\n",
    "    def __init__(self,Model:str=\"\",systemMessage:str=\"\",query:str=\"\"):\n",
    "        self.UUID=str(uuid.uuid4())\n",
    "        self.Model=Model\n",
    "        self.systemMessage=systemMessage\n",
    "        self.query=query\n",
    "        self.Messages=[{'role': 'system', 'content': systemMessage},\n",
    "                       {'role': 'user', 'content': query}]\n",
    "\n",
    "    def to_json(self):\n",
    "        return self.__dict__\n",
    "    \n",
    "    def from_json(self,json_str):\n",
    "        self.__dict__=json.loads(json_str)\n",
    "        \n",
    "class LLMResult:\n",
    "    def __init__(self,UUID:str=\"\",result:str=\"\",errorMsg:str=\"\",timeDelta:str=\"\"):\n",
    "        self.UUID=UUID\n",
    "        self.result=result\n",
    "        self.errorMsg=errorMsg\n",
    "        self.HasError=errorMsg!=\"\"\n",
    "        self.timeDelta=timeDelta\n",
    "\n",
    "    def to_json(self):\n",
    "        return self.__dict__\n",
    "    \n",
    "    def from_json(self,json_str):\n",
    "        self.__dict__=json.loads(json_str)\n",
    "        \n",
    "class LLMRequestResultPair():\n",
    "    def __init__(self,request:LLMRequest,result:LLMResult=None):\n",
    "        self.uuid=request.UUID\n",
    "        self.request=request\n",
    "        self.result=result\n"
   ]
  },
  {
   "cell_type": "code",
   "execution_count": 8,
   "metadata": {},
   "outputs": [
    {
     "name": "stdout",
     "output_type": "stream",
     "text": [
      "Queued message: cf71ff54-888d-4f90-a71d-2f3153371daa\n",
      "Queued message: 12775d03-22c0-402a-b000-544ef8542af4\n",
      "Queued message: a89011f0-e044-4381-8eb2-4cfc399f18f9\n",
      "Queued message: 6808e544-475e-44d6-86b3-0fa0be810f9f\n",
      "Queued message: 4c4dd04e-bc2b-4829-900d-374b8b87bd06\n",
      "Queued message: 7b37483b-196d-4e41-a7ea-97dffd765685\n",
      "Queued message: 8ab30491-e979-4a35-adae-b320b7bb4726\n",
      "Queued message: 444958cc-6895-4e8f-a8e5-55fc47bfbf97\n",
      "Queued message: a831677a-9383-4127-aa28-c3a7b4b9f089\n",
      "Queued message: e9e865b5-be1f-424c-9db8-a14a92ffad12\n"
     ]
    }
   ],
   "source": [
    "#Main OLLAMA Calling Function / Example code which posts data to queue\n",
    "import json\n",
    "from typing import List\n",
    "import uuid\n",
    "from azure.servicebus import ServiceBusClient, ServiceBusMessage\n",
    "\n",
    "\n",
    "\n",
    "#Post to a service bus queue    \n",
    "def AzurePost_ServiceBus(connection_string: str, queue_name: str, json_payload):\n",
    "    with ServiceBusClient.from_connection_string(connection_string) as client:\n",
    "        sender = client.get_queue_sender(queue_name=queue_name)\n",
    "        message = ServiceBusMessage(json.dumps(json_payload))\n",
    "        with sender:\n",
    "            sender.send_messages(message)\n",
    "            print(f\"Queued message: {json_payload['UUID']}\")\n",
    "\n",
    "#Take a list of queries and turn them into results\n",
    "def BatchTransForm(Model:str,systemMessage:str,queries:List[str],DynamicUI:bool=True,WebUI:bool=False,ShowWebUI:bool=False)->List[str]:\n",
    "    \n",
    "    #Put every prompt into the LLM_Requests pool\n",
    "    LLMrequests=[]\n",
    "    for query in queries:\n",
    "        request=LLMRequest(Model,systemMessage,query)\n",
    "        LLMrequests.append(request)\n",
    "        AzurePost_ServiceBus(EndPoint_Queries,\"llm-queries\",request.to_json())\n",
    "    \n",
    "    #Monitor the results queue\n",
    "    return LLMrequests\n",
    "    \n",
    "    #Output the results\n",
    "    \n",
    "#Test code\n",
    "systemPrompt=\"\"\"You are a science fiction fantasy writer writing beautifully creative descriptions from a list of character traits. \n",
    "You have a list of character traits, be creative and expand on this (going so far as to write a short background story if you wish).\n",
    "Try to keep it within medieval fantasy RPG lore and appropriate to this context.\n",
    "\"\"\"\n",
    "queuedRequests=BatchTransForm(\"mistral-small\",systemPrompt,requestTexts)\n",
    "\n"
   ]
  },
  {
   "cell_type": "code",
   "execution_count": 7,
   "metadata": {},
   "outputs": [
    {
     "name": "stdout",
     "output_type": "stream",
     "text": [
      "Receiving messages from the queue...\n",
      "Received message: {\"UUID\": \"dcbac0e5-dbc0-42cf-ad3a-9f2285bc7d8c\", \"result\": {\"model\": \"llama3.1\", \"created_at\": \"2024-09-23T19:37:40.363504013Z\", \"message\": {\"role\": \"assistant\", \"content\": \"In the heart of the mystical forest of Elvendom, where ancient trees whispered secrets to the wind, and faeries danced with abandon under the silver light of the full moon, there lived a gnome like no other. His name was Bramble Burrowes, a towering figure among his diminutive kin, with a ruddy complexion that seemed to glow from within, as if infused by the warm embers of a thousand sunsets.\\n\\nStanding at an impressive seven feet tall, Bramble's muscular physique seemed to have been chiseled from the very stone of the mountains he called home. His broad shoulders and powerful arms spoke of a life spent in the service of his people, defending their underground strongholds against the dark forces that sought to claim the land for their own.\\n\\nBramble's sharp features were a testament to his unyielding spirit, his jawline chiseled from granite, his nose a slight triangle of defiance. His eyes, however, told a different tale \\u2013 dull and soft as a summer cloud, they seemed to hold a deep sadness, as if the weight of his responsibilities had borne down upon him like an avalanche.\\n\\nHis curly hair was a wild tangle of chestnut brown, framing a face that seemed carved from the very same granite as the mountains themselves. And yet, despite his rugged appearance, Bramble moved with an elegance that belied his clumsy mannerisms \\u2013 a tendency to trip over his own feet or knock over a nearby vase (which had earned him more than one scolding from the refined ladies of Elvendom's court).\\n\\nIt was this very refinement, however, that made Bramble such a paragon among his peers. He moved with the poise and sophistication of a courtier, his voice low and smooth as honey, his words dripping with an easy charm that could disarm even the most skeptical of critics.\\n\\nBut amidst all this elegance lay a virtue \\u2013 a bravery that bordered on foolhardiness. Bramble was the first to rush into battle, the last to retreat in the face of danger. He had faced down giant spiders and packs of snarling wolverines, battled against the dark sorcerers who sought to claim Elvendom for their own.\\n\\nAnd yet, despite his many victories, Bramble remained a humble soul \\u2013 a man whose greatest desire was not wealth or power, but to protect the innocent, to defend the weak. He walked with a quiet dignity, his head held high, his heart full of a sense of purpose that would not be swayed by the whims of fortune.\\n\\nIn a world filled with darkness and uncertainty, Bramble Burrowes stood as a beacon of hope \\u2013 a shining example of what it meant to be brave, refined, and true.\"}, \"done_reason\": \"stop\", \"done\": true, \"total_duration\": 16443071327, \"load_duration\": 11276471751, \"prompt_eval_count\": 140, \"prompt_eval_duration\": 57611000, \"eval_count\": 557, \"eval_duration\": 5058442000}, \"errorMsg\": \"\", \"HasError\": false, \"timeDelta\": \"0:00:16.466405\"}\n",
      "Result UUID: dcbac0e5-dbc0-42cf-ad3a-9f2285bc7d8c found in queueDict\n",
      "Received message: {\"UUID\": \"cb5ed045-093a-4016-b9a7-6b50a7994b28\", \"result\": {\"model\": \"llama3.1\", \"created_at\": \"2024-09-23T19:37:48.465406944Z\", \"message\": {\"role\": \"assistant\", \"content\": \"What a delightful combination of traits! Let me see...\\n\\nIn the rolling hills and verdant valleys of the Shire-like realm of Elmsdale, there lived a halfling like no other. His name was Bramble Burrowes, and he stood out among his fellow halflings not just for his towering height - a full head above his peers - but also for his chiseled physique, honed from years of working the land and mastering the art of archery.\\n\\nBramble's pale complexion seemed almost ethereal against the golden hue of the sun-kissed Elmsdale countryside. Yet, it was not a fragile appearance that his delicate features and bright eyes betrayed. No, for beneath those innocent-looking locks and behind those shining orbs lay a heart as brave and steadfast as any warrior of old.\\n\\nHis long hair, a rich brown that cascaded down his back like a waterfall, often escaped from its tidy braid to frame his round face with unruly curls. It was as if the very essence of Elmsdale's lush vegetation had taken up residence within him, making him at once the most endearing and formidable halfling in all the land.\\n\\nBramble moved through life with a simplicity that belied his sophistication - for though he wore fine silks and velvets like any noble halfling, there was an unassuming quality to his demeanor, as if he had never known a moment's fuss or finery. Yet, when circumstances demanded it, he could move with the fluid elegance of a court jester, his mannerisms as subtle and nuanced as those of a master puppeteer.\\n\\nIn battle, Bramble Burrowes was a force to be reckoned with - his bravery in the face of danger inspiring awe in even the most hardened warriors. It was said that he could shoot the eyes out of a goblin from across the valley, and that no foe had ever bested him in single combat.\\n\\nAnd yet... despite all these remarkable qualities, Bramble remained an enigma to many - a halfling apart, as it were, with secrets hidden behind those bright eyes, and whispers about his mysterious past carried on the wind like autumn leaves. For though he walked among his kin with ease, there was something about him that seemed... not quite of this world.\\n\\nThe villagers of Elmsdale would smile knowingly at one another, their glances darting between Bramble's statuesque frame and the distant horizon, as if they were privy to some hidden truth. And when asked directly, they would merely nod with knowing grins, saying only: \\\"Ah, yes... Bramble Burrowes is a true son of Elmsdale, through and through...\\\"\"}, \"done_reason\": \"stop\", \"done\": true, \"total_duration\": 5302832963, \"load_duration\": 13961304, \"prompt_eval_count\": 141, \"prompt_eval_duration\": 99152000, \"eval_count\": 552, \"eval_duration\": 5129108000}, \"errorMsg\": \"\", \"HasError\": false, \"timeDelta\": \"0:00:05.324704\"}\n",
      "Result UUID: cb5ed045-093a-4016-b9a7-6b50a7994b28 found in queueDict\n",
      "Received message: {\"UUID\": \"4268ca6e-ab4d-4057-a221-12de15edf808\", \"result\": {\"model\": \"llama3.1\", \"created_at\": \"2024-09-23T19:37:55.274058187Z\", \"message\": {\"role\": \"assistant\", \"content\": \"In the rolling hills and bustling marketplaces of the land, there lived a gnome named Grimbul Odensson. His fair complexion was a beacon in the earthy tones that seemed to dominate his underground kin. Standing at an average height for one of his kind, Grimbul often found himself ducking to avoid low-hanging branches or scurrying through narrow tunnels with ease.\\n\\nDespite his compact stature, Grimbul's portly build made him appear almost... rounded. His stout frame was the result of a lifelong habit of indulging in warm bread and ale at the local tavern, where he spent many an evening swapping tales and sharing laughter with fellow patrons. As he navigated the crowded streets, his considerable girth would often make him stumble over uneven cobblestones or knock into startled pedestrians.\\n\\nGrimbul's sharp features, however, were a testament to his unyielding nature. His dark eyes sparkled like polished onyx, hinting at a keen mind and unwavering dedication to those he cared about. A mop of long, unkempt hair framed his face, often escaping the confines of his simple leather cap or falling across his forehead in unruly strands.\\n\\nIn his daily attire, Grimbul favored simple tunics and breeches, practical yet unassuming garb that suited a life spent among the earthy tones of his underground kin. He was not one for grand finery or elaborate displays of wealth; instead, he preferred to keep his belongings modest and his hands busy with more useful pursuits.\\n\\nAs a simple gnome, Grimbul's sophistication was as straightforward as his appearance: unadorned and genuine. He navigated the complexities of life with an unwavering honesty that earned him many friends and admirers throughout the land. Yet, despite this straightforward nature, Grimbul possessed a certain... clumsiness. Whether it be tripping over his own feet or knocking over a candlestick, he seemed to have a knack for finding trouble in even the most mundane of situations.\\n\\nAnd yet, amidst all this chaos, Grimbul shone like a beacon: loyal, steadfast, and unwaveringly dedicated to those he loved. His virtue was as unshakeable as his resolve, a testament to a life spent cultivating deep bonds with friends and family alike. Whether battling goblins in the dark recesses of the mines or serving ale at the local tavern, Grimbul Odensson stood as a shining example of loyalty incarnate \\u2013 a true gem among the rolling hills and bustling marketplaces of this enchanted land.\"}, \"done_reason\": \"stop\", \"done\": true, \"total_duration\": 4893647126, \"load_duration\": 14113115, \"prompt_eval_count\": 140, \"prompt_eval_duration\": 72451000, \"eval_count\": 511, \"eval_duration\": 4754376000}, \"errorMsg\": \"\", \"HasError\": false, \"timeDelta\": \"0:00:04.915932\"}\n",
      "Result UUID: 4268ca6e-ab4d-4057-a221-12de15edf808 found in queueDict\n",
      "Received message: {\"UUID\": \"3ea2458a-b604-4b2c-905b-ed8bf19bf1a6\", \"result\": {\"model\": \"llama3.1\", \"created_at\": \"2024-09-23T19:38:02.366122039Z\", \"message\": {\"role\": \"assistant\", \"content\": \"As the moon dipped into the horizon, casting a warm orange glow over the rolling hills of Elyria, Althaeon strolled through the tranquil forest, her slender form gliding effortlessly across the terrain. Her dark complection seemed to blend seamlessly with the shadows, as if she were an extension of the very trees themselves.\\n\\nHer average height was often overlooked by those who met her for the first time, but it was a deliberate choice, one that allowed her to move through the world unseen and unheard, much like a whispered secret carried on the wind. Her build, too, was finely honed \\u2013 not overly muscular, yet strong enough to suggest a deep connection with the natural world.\\n\\nAs an elf of refined taste, Althaeon's features were sharp, as if chiseled from the finest marble by some unseen hand. Her dark eyes seemed to hold a depth and wisdom that belied her youthful appearance, while her long hair cascaded down her back like a river of night, its silken threads catching the fading light in a thousand tiny sparks.\\n\\nShe wore fine clothes, crafted from the softest silks and woven with intricate patterns that told stories of their own. Her attire was understated yet elegant, speaking to a sensibility that valued subtlety over showmanship \\u2013 a quality that served her well in a world where secrets were currency and deception was an art form.\\n\\nAlthaeon's mannerism was quiet, a virtue honed from years of observing the world around her. She listened more than she spoke, absorbing the sounds and whispers of those around her like a sponge absorbs water. Her eyes would sparkle with mirth when she chose to speak, but only then \\u2013 for in silence lay the true power of wisdom.\\n\\nAnd yet, beneath the surface of this refined and collected elf lay a heart of gold, forged in the crucible of honesty. Althaeon was a truth-seeker, driven by an insatiable curiosity that led her down paths both dark and light. Her virtue shone like a beacon, illuminating even the most hidden recesses of her own soul.\\n\\nIn this way, Althaeon embodied the essence of Elyria's ancient maxim: \\\"Truth is the greatest treasure, and honesty its most precious guardian.\\\" She was a sentinel of virtue, ever vigilant and ready to defend the innocent, with a quiet confidence that came from knowing that in a world of shadows, her word was worth more than any material gold.\"}, \"done_reason\": \"stop\", \"done\": true, \"total_duration\": 4883159649, \"load_duration\": 12809387, \"prompt_eval_count\": 139, \"prompt_eval_duration\": 70011000, \"eval_count\": 503, \"eval_duration\": 4749555000}, \"errorMsg\": \"\", \"HasError\": false, \"timeDelta\": \"0:00:04.905937\"}\n",
      "Result UUID: 3ea2458a-b604-4b2c-905b-ed8bf19bf1a6 found in queueDict\n",
      "Received message: {\"UUID\": \"0d7ebf66-e1f7-4d7f-b806-d03f2301fe70\", \"result\": {\"model\": \"llama3.1\", \"created_at\": \"2024-09-23T19:38:09.995909258Z\", \"message\": {\"role\": \"assistant\", \"content\": \"As the sun set over the bustling market square of Willowdale, a small but sturdy figure emerged from the crowd. Grimbold Ironfist, a human of unassuming stature - no taller than 5'2\\\" - made his way through the throng with an endearing clumsiness that seemed to earn him more smiles than scowls. His pale skin and short, tightly-cropped hair only added to his boyish charm, as if he had just rolled out of bed and stumbled into town without so much as a passing thought for his appearance.\\n\\nYet, despite his rough-hewn demeanor - his clothes were simple, tattered, and mismatched in hue - there was an unmistakable aura of kindness about Grimbold. His eyes, piercing green orbs that sparkled with warmth, seemed to radiate a soothing energy that could calm even the most savage of beasts. They twinkled like lanterns on a moonless night as he smiled at the vendors, apologizing profusely for his clumsiness as he knocked over a stall or two.\\n\\nHis build was... formidable, shall we say. Grimbold's muscles bulged beneath his coarse linen shirt like boulders, a testament to years of hard labor and honest toil in the fields and mines of Willowdale. His round features - nose, cheeks, chin - were set in a perpetual expression of good-natured innocence, as if he had just been caught with his hand in the cookie jar by a mischievous sprite.\\n\\nDespite his rough sophistication - one could almost charitably describe him as \\\" unsophisticated\\\" - Grimbold possessed a heart of gold. His virtue was kindness itself incarnate, and those who knew him well would vouch that he would give you the shirt off his back if you needed it more than he did.\\n\\nAs Grimbold wove through the crowds, his clumsy gait and genuine good intentions earned him nods of respect from the townsfolk, who knew a kind soul when they saw one. He was no great hero, nor even particularly remarkable in any way - just a simple, sturdy human being with a heart full of love for all living things.\\n\\nAnd yet... there was something more to Grimbold Ironfist. Something simmering beneath his clumsy exterior, waiting to boil over like a kettle left on the stove. Perhaps it was the glint in his eye that spoke of secrets kept and mysteries unspoken. Maybe it was the faintest hint of a stubbornness that lurked beneath his kindly demeanor - as if he were holding something back, just for now.\\n\\nWhatever it might be, one thing was certain: Grimbold Ironfist was not quite what he seemed to be...\"}, \"done_reason\": \"stop\", \"done\": true, \"total_duration\": 5345178141, \"load_duration\": 12976905, \"prompt_eval_count\": 139, \"prompt_eval_duration\": 81948000, \"eval_count\": 544, \"eval_duration\": 5107614000}, \"errorMsg\": \"\", \"HasError\": false, \"timeDelta\": \"0:00:05.366720\"}\n",
      "Result UUID: 0d7ebf66-e1f7-4d7f-b806-d03f2301fe70 found in queueDict\n",
      "Received message: {\"UUID\": \"0a354cf1-4612-4060-acc3-e27b83d872ef\", \"result\": {\"model\": \"llama3.1\", \"created_at\": \"2024-09-23T19:38:18.18049371Z\", \"message\": {\"role\": \"assistant\", \"content\": \"As I set my quill to paper, the character of Eltharion Eilifr begins to take shape in my mind's eye. The pale skin and bright eyes of this elf suggest a being attuned to the mystical forces that dance across the realms. His average height belies his muscular build, honed from years of martial training among the elven clans.\\n\\nEltharion's round features, often described as \\\"youthful\\\" by those who know him, belie a sharp mind and quick wit. His curly hair, an unruly tumble of chestnut locks, often escapes its ties, framing his face like a halo in the flickering candlelight of taverns and gatherings.\\n\\nAs I imagine Eltharion, I see him dressed in elegant attire, the silken robes and fine embroidery a testament to his family's wealth and status within the elven courts. Yet, despite this finery, there is something \\\"crude\\\" about our elf, an air of rough-around-the-edges that speaks to his humble beginnings among the common folk.\\n\\nBoisterous laughter often spills from Eltharion's lips, a testament to his kind heart and infectious enthusiasm. This elf has a way of making even the most serious of individuals smile, his mirth contagious as a wildfire spreading across parched lands.\\n\\nBut beneath this jolly facade lies a virtuous soul, one that beats with compassion and empathy for all living creatures. Eltharion Eilifr is an outcast among the elven nobility, shunned for his \\\"impure\\\" bloodline \\u2013 a result of his mother's love affair with a mortal warrior.\\n\\nRumors whisper that this elf was once part of an elite group of guards, sworn to protect the sacred libraries and ancient knowledge hidden deep within the elven realm. His prowess in battle is legendary, but it is whispered that Eltharion's rough, boisterous nature made him too... distracting for the refined tastes of his superiors.\\n\\nNow, a wandering adventurer, Eltharion roams the land, seeking fortune and acceptance among those who know him not as a \\\"crude\\\" elf, but as a true friend. His tale is one of redemption, of finding purpose in a world where his elven heritage seems to weigh him down like an anchor, keeping him tethered to a fate he would rather escape.\\n\\nAs I finish writing this brief sketch, I am struck by the contrasts that make Eltharion Eilifr so intriguing. Like a beautifully crafted sculpture, our elf is a balance of opposing forces \\u2013 elegance and coarseness, refinement and roughness, sophistication and... well, crudity itself.\"}, \"done_reason\": \"stop\", \"done\": true, \"total_duration\": 5374911040, \"load_duration\": 12976702, \"prompt_eval_count\": 141, \"prompt_eval_duration\": 98453000, \"eval_count\": 545, \"eval_duration\": 5105897000}, \"errorMsg\": \"\", \"HasError\": false, \"timeDelta\": \"0:00:05.397741\"}\n",
      "Result UUID: 0a354cf1-4612-4060-acc3-e27b83d872ef found in queueDict\n",
      "Received message: {\"UUID\": \"9bc2d7f4-14f3-4263-bc3c-f1081dc2e126\", \"result\": {\"model\": \"llama3.1\", \"created_at\": \"2024-09-23T19:38:28.5112386Z\", \"message\": {\"role\": \"assistant\", \"content\": \"Let me bring this delightful character to life...\\n\\nName: Bramble Stonetooth, the stout-hearted gnome artisan.\\n\\nPhysical Description:\\nBramble is a sturdy little gnome, with a ruddy complexion that speaks to his love of hearty ale and warm hearths. His average height belies his robust build, which he's maintained through years of enjoying copious meals at the local taverns. A round face, complete with a pointed chin and nose, adds a touch of whimsy to his sturdy features. Bright, shining eyes sparkle like gemstones in the sunlight, as if infused with an inner light that guides him through life's trials.\\n\\nLong, curly hair \\u2013 a rich, dark brown hue \\u2013 flows down his back like a river of night, framing his rounded face and emphasizing his portly build. It's not uncommon for Bramble to get his hair caught in the most unlikely of places, such as a loose thread on a tapestry or a stubborn knot in a tree branch.\\n\\nAttire:\\nBramble dresses with an air of sophistication, donning fine silks and velvets that would make even the most discerning noble jealous. His wardrobe is a testament to his love of luxury and comfort, with intricate patterns and colors that seem to dance across his person like courtiers at a royal ball.\\n\\nHowever, despite his refined taste in attire, Bramble's mannerisms betray a more...unpredictable nature. He has a tendency to trip over his own feet or knock things off tables, much to the amusement of his friends and the chagrin of his enemies. A clumsiness that borders on comedy, it's as if fate itself is conspiring against him, ensuring that he'll always find the most creative ways to bumble through life.\\n\\nPersonality:\\nBramble Stonetooth is a brave gnome, with a heart full of courage and a spirit that refuses to be tamed. He's quick to charge into battle, his stout legs propelling him forward like a miniature warhorse on a mission from God. His bravery is matched only by his unwavering sense of justice, which guides him towards the most noble and selfless acts.\\n\\nAs an artisan, Bramble has a deep love for creating beautiful works that bring joy to others. He's particularly skilled in the art of woodworking, crafting intricate figurines and delicate ornaments that are sought after by nobles and commoners alike. His complex nature \\u2013 part brilliant artist, part bumbling oaf \\u2013 makes him both endearing and infuriating, like a fine wine with a hint of vinegar.\\n\\nBackground Story:\\nBramble grew up in the bustling gnome enclave of Stonetooth's Hollow, where his family had lived for generations. From a young age, he was fascinated by the art of woodworking, spending hours in his father's workshop learning the intricacies of shaping and carving wood. As he honed his craft, Bramble developed a passion for creating beautiful objects that would bring happiness to those who owned them.\\n\\nHowever, despite his natural talent, Bramble's clumsiness often got the better of him. He'd trip over his own feet, spill ale on important documents, or knock over entire workbenches while trying to focus on his craft. It was as if fate itself was conspiring against him, ensuring that he'd always find the most creative ways to bumble through life.\\n\\nUndeterred, Bramble turned his clumsiness into a strength. He began to see himself as a bit of a court jester, using his misadventures to bring laughter and joy to those around him. And so, with a spring in his step and a twinkle in his eye, Bramble Stonetooth set out into the world, spreading happiness and mirth wherever he went.\\n\\nNow, if you'll excuse me, I have to go attend to my own clumsiness...\"}, \"done_reason\": \"stop\", \"done\": true, \"total_duration\": 7556335641, \"load_duration\": 13589418, \"prompt_eval_count\": 141, \"prompt_eval_duration\": 95785000, \"eval_count\": 778, \"eval_duration\": 7300509000}, \"errorMsg\": \"\", \"HasError\": false, \"timeDelta\": \"0:00:07.580792\"}\n",
      "Result UUID: 9bc2d7f4-14f3-4263-bc3c-f1081dc2e126 found in queueDict\n",
      "Received message: {\"UUID\": \"b25e42d6-2abe-48c8-a746-17ef86cd608b\", \"result\": {\"model\": \"llama3.1\", \"created_at\": \"2024-09-23T19:38:36.611589482Z\", \"message\": {\"role\": \"assistant\", \"content\": \"As the moon cast its silvery glow upon the bustling streets of El'goroth, a lone figure emerged from the shadows. Kaelith Sunshadow, an elf of unassuming stature and average height, strode with purpose through the crowded market square. His dark complexion seemed almost like a shadow itself, as if he had absorbed all the darkness that surrounded him. Yet, despite this somber hue, his muscular build betrayed a strength that belied his reserved demeanor.\\n\\nSoft-featured, Kaelith's face was an enigma \\u2013 a paradox of contrasts that left many to wonder what lay beneath his calm exterior. His piercing emerald eyes sparkled like stars in the night sky, hinting at a depth and wisdom that few could match. A straight lock of dark hair fell across his forehead, framing a visage that seemed both familiar and yet, utterly unknown.\\n\\nKaelith's attire was an affront to the refined tastes of El'goroth's upper echelons \\u2013 gaudy and ostentatious, like a peacock's plumage. A riotous display of color and pattern swirled across his clothing, proclaiming his status as a free spirit, unbound by the conventions that governed the city's aristocracy. His mannerisms were, if anything, even more pronounced \\u2013 quiet to the point of being almost imperceptible, Kaelith moved through the crowd like a ghost, leaving behind whispers and wondering glances.\\n\\nDespite this rough-hewn exterior, Kaelith Sunshadow was a paragon of virtue \\u2013 generous to a fault, he had been known to bestow gifts upon those in need, often without expectation of repayment or recognition. His heart was as vast as the open plains that stretched beyond El'goroth's walls, and his spirit, like a mountain stream, flowed with an unending supply of kindness.\\n\\nAs Kaelith continued on his way, he drew admiring glances from the crowd \\u2013 not for any grand display of power or prestige, but for the simple, uncomplicated charm that seemed to radiate from him. And though few knew it, this enigmatic elf was destined to leave an indelible mark upon El'goroth's history \\u2013 a testament to the transformative power of generosity and compassion.\\n\\nIn a world where might often made right, Kaelith Sunshadow stood as a beacon of hope, shining brightly for all who would follow in his footsteps. His path would be marked by trials and tribulations, but through it all, his heart remained unwavering \\u2013 an unwavering bastion of courage, in the face of adversity. For this was Kaelith Sunshadow \\u2013 a hero, forged from the very essence of El'goroth's most unlikely spirit.\"}, \"done_reason\": \"stop\", \"done\": true, \"total_duration\": 5443294435, \"load_duration\": 12716104, \"prompt_eval_count\": 141, \"prompt_eval_duration\": 81747000, \"eval_count\": 559, \"eval_duration\": 5204970000}, \"errorMsg\": \"\", \"HasError\": false, \"timeDelta\": \"0:00:05.469183\"}\n",
      "Result UUID: b25e42d6-2abe-48c8-a746-17ef86cd608b found in queueDict\n",
      "Received message: {\"UUID\": \"c9db157d-1f75-4324-a34e-bc74ed34585f\", \"result\": {\"model\": \"llama3.1\", \"created_at\": \"2024-09-23T19:38:44.420173171Z\", \"message\": {\"role\": \"assistant\", \"content\": \"As I pondered the intricacies of my diminutive, yet stalwart hero, Glimble Stonetooth, the whispers of the wind in the rolling hills of the Shire of Gnomeria began to take shape. \\n\\nGlimble stood at an average height for a gnome, but his sturdy build and angular features gave him a commanding presence on the crowded market stalls of our fair city. His pale complexion, though often mistaken for a sign of frailty, belied a constitution honed from years of burrowing through the dark, damp tunnels beneath Gnomeria's streets.\\n\\nHis eyes, like two polished obsidians, shone bright and dark, with an intensity that could cut through even the thickest veil of deceit. His straight hair, as black as the night sky on a moonless evening, was often tied back in a simple leather strap, allowing his angular features to take center stage.\\n\\nBut it was not Glimble's physical appearance that truly set him apart \\u2013 it was the fine clothes that adorned his sturdy frame like a well-crafted suit of armor. The intricate embroidery and precision-cut fabrics spoke of a craftsmanship rivaling even the finest elven tailors, and hinted at a life spent in comfort and privilege.\\n\\nAlas, despite this refined attire, Glimble's mannerisms revealed a crudeness at odds with his elegant garb. His laughter was deep and rumbling, like the sound of a dwarf's forge, and his humor often bordered on the ribald, leaving his companions in stitches even as they struggled to keep a straight face.\\n\\nYet, it was not this coarseness that defined Glimble Stonetooth \\u2013 but rather his generosity. Like a spring morning, he burst forth with warmth and kindness, unhesitatingly sharing his resources with those less fortunate. His virtue shone like a beacon in the night, illuminating even the darkest alleys of Gnomeria's underworld.\\n\\nAs our hero navigated the intricate web of gnome politics and intrigue, it became clear that Glimble was not merely a stocky, pale-faced gnome \\u2013 but rather, a force to be reckoned with. His angular features seemed to take on a life of their own as he moved through the crowd, leaving in his wake a trail of gratitude and admiration.\\n\\nAnd so, the whispers of the wind continued to speak of Glimble Stonetooth, our diminutive hero with the heart of a giant \\u2013 for in a world of steel and stone, it is not always the strongest who prevail \\u2013 but those who possess the greatest virtues.\"}, \"done_reason\": \"stop\", \"done\": true, \"total_duration\": 5096527560, \"load_duration\": 14273036, \"prompt_eval_count\": 140, \"prompt_eval_duration\": 99300000, \"eval_count\": 520, \"eval_duration\": 4835844000}, \"errorMsg\": \"\", \"HasError\": false, \"timeDelta\": \"0:00:05.119837\"}\n",
      "Result UUID: c9db157d-1f75-4324-a34e-bc74ed34585f found in queueDict\n",
      "Received message: {\"UUID\": \"4bdd9901-802b-4a6f-8730-6a93300d41dd\", \"result\": {\"model\": \"llama3.1\", \"created_at\": \"2024-09-23T19:38:51.807977949Z\", \"message\": {\"role\": \"assistant\", \"content\": \"As I set down the quill, the parchment begins to shimmer with visions of Bramble Burrowes, a halfling whose very essence was woven from the threads of contradictions. His fair complexion seemed almost too pale for his robust build, which had earned him the nickname \\\"The Pocket Fortress\\\" among his kin in the verdant valleys of the Shire.\\n\\nBramble's average height belied a depth to his character that only revealed itself after one had scratched beneath the surface \\u2013 much like uncovering the intricate carvings on an old wooden door. His portly frame was testament to the simple pleasures in life: hearty meals, warm firesides, and good company. Yet, this affable demeanor hid a quiet reserve, a still pond that only rippled with thoughts and emotions when one least expected it.\\n\\nSoftness was a defining feature of Bramble's, from his gentle hands to his soothing voice. It was as if the very essence of spring had settled upon him \\u2013 a sense of renewal and possibility that put even the most skeptical of souls at ease. However, this softness was not without its counterpoint: the dull gleam in his eyes seemed to hold secrets, whispers from the shadows that only he could hear.\\n\\nHis straight hair fell across his forehead with a neat, almost calculated air \\u2013 as if it had been combed and styled by some unseen force, rather than simply falling into place on its own. It was a quirk that spoke of a halfling whose complexities far outstripped the simplicity of his appearance.\\n\\nBramble's clothes, however, were a different matter altogether. Gaudy indeed they were \\u2013 a riotous explosion of colors and patterns that would have drawn snickers from any who had not known him. Yet, there was something endearingly whimsical about this self-appointed fashionista, as if the very act of dressing himself in such outlandish finery was an affirmation of his joy in living.\\n\\nIn a world where sophistication often lay with those who moved in rarefied circles \\u2013 nobles and courtiers, scholars and poets \\u2013 Bramble Burrowes stood apart. His mannerisms were quiet, almost subterranean; he listened more than he spoke, and thought far more deeply than most people gave him credit for. This was a halfling whose virtues lay not in the grand gestures, but in the small, unassuming ones: honesty, integrity, and a willingness to stand by what he believed in, no matter how unpopular it might be.\\n\\nIn short, Bramble Burrowes was an enigma \\u2013 a puzzle wrapped in a riddle, with the solution hidden deep within his own heart.\"}, \"done_reason\": \"stop\", \"done\": true, \"total_duration\": 5315269066, \"load_duration\": 13167907, \"prompt_eval_count\": 144, \"prompt_eval_duration\": 81774000, \"eval_count\": 542, \"eval_duration\": 5071235000}, \"errorMsg\": \"\", \"HasError\": false, \"timeDelta\": \"0:00:05.337820\"}\n",
      "Result UUID: 4bdd9901-802b-4a6f-8730-6a93300d41dd found in queueDict\n",
      "Total Results: 10, Invalid Results: 0\n"
     ]
    }
   ],
   "source": [
    "#Main Result Handling Loop\n",
    "import time\n",
    "from typing import List\n",
    "from azure.servicebus import ServiceBusClient, ServiceBusMessage\n",
    "\n",
    "#Turn queud requests into dictionary\n",
    "queueDict={}\n",
    "for request in queuedRequests:\n",
    "    queueDict[request.UUID]=LLMRequestResultPair(request)\n",
    "totalResults=0\n",
    "invalidResults=0\n",
    "\n",
    "def ProcessResult(result:LLMResult):\n",
    "    global totalResults\n",
    "    global invalidResults\n",
    "    if result.UUID in queueDict:\n",
    "        print(f\"Result UUID: {result.UUID} found in queueDict\")\n",
    "        queueDict[result.UUID].result=result\n",
    "        totalResults+=1\n",
    "    else:\n",
    "        print(f\"Result UUID: {result.UUID} not found in queueDict\")\n",
    "        invalidResults+=1\n",
    "\n",
    "# Replace with your connection string and queue name\n",
    "queue_name = \"llm-responses\"\n",
    "servicebus_client = ServiceBusClient.from_connection_string(conn_str=Endpoint_Results)\n",
    "\n",
    "def receive_messages_from_queue():\n",
    "    # Create a receiver for the queue\n",
    "    with servicebus_client.get_queue_receiver(queue_name=queue_name) as receiver:\n",
    "        print(\"Receiving messages from the queue...\")\n",
    "        \n",
    "        # Receive messages in a batch, you can specify max_message_count as needed\n",
    "        received_msgs = receiver.receive_messages(max_message_count=10, max_wait_time=5)\n",
    "\n",
    "        for msg in received_msgs:\n",
    "            # Print the message payload\n",
    "            print(f\"Received message: {str(msg)}\")\n",
    "            receiver.complete_message(msg)\n",
    "            \n",
    "            llmRequest=LLMResult()\n",
    "            llmRequest.from_json(str(msg))\n",
    "            #llmRequest.from_json(json.loads(str(msg)))\n",
    "            ProcessResult(llmRequest)\n",
    "            \n",
    "            # Accept the message to remove it from the queue\n",
    "            #receiver.complete_message(msg)\n",
    "\n",
    "# Call the function to read from the queue\n",
    "while totalResults<len(queueDict):\n",
    "    receive_messages_from_queue()\n",
    "    print(f\"Total Results: {totalResults}, Invalid Results: {invalidResults}\")\n",
    "\n"
   ]
  },
  {
   "cell_type": "code",
   "execution_count": 14,
   "metadata": {},
   "outputs": [
    {
     "name": "stdout",
     "output_type": "stream",
     "text": [
      "Queued message: fb9bc274-07af-4a99-9f37-8db0f5cbe309\n"
     ]
    }
   ],
   "source": [
    "#Edge Case -> delibrately fail a few requests\n",
    "\n",
    "systemPrompt=\"\"\"You are a science fiction fantasy writer writing beautifully creative descriptions from a list of character traits. \n",
    "You have a list of character traits, be creative and expand on this (going so far as to write a short background story if you wish).\n",
    "Try to keep it within medieval fantasy RPG lore and appropriate to this context.\n",
    "\"\"\"\n",
    "\n",
    "#Invalid model!\n",
    "queuedRequests=BatchTransForm(\"herdepr28.1\",systemPrompt,requestTexts[0:1])\n",
    "\n"
   ]
  }
 ],
 "metadata": {
  "kernelspec": {
   "display_name": "pyTorchCUDA",
   "language": "python",
   "name": "python3"
  },
  "language_info": {
   "codemirror_mode": {
    "name": "ipython",
    "version": 3
   },
   "file_extension": ".py",
   "mimetype": "text/x-python",
   "name": "python",
   "nbconvert_exporter": "python",
   "pygments_lexer": "ipython3",
   "version": "3.9.12"
  }
 },
 "nbformat": 4,
 "nbformat_minor": 2
}
