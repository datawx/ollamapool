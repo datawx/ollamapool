{
 "cells": [
  {
   "cell_type": "code",
   "execution_count": 4,
   "metadata": {},
   "outputs": [
    {
     "name": "stdout",
     "output_type": "stream",
     "text": [
      "Environment Variables are set OK\n"
     ]
    }
   ],
   "source": [
    "#OLLAMAPool Server Prototype Code\n",
    "import os\n",
    "EndPoint_Queries=os.environ.get('EndPoint_Queries')\n",
    "Endpoint_Results=os.environ.get('Endpoint_Results')\n",
    "EndPoint_NodeStatus=os.environ.get('EndPoint_NodeStatus')\n",
    "\n",
    "#Assert if the environment variables are set\n",
    "if EndPoint_Queries is None:\n",
    "    raise ValueError(\"EndPoint_Queries is not set\")\n",
    "if Endpoint_Results is None:\n",
    "    raise ValueError(\"Endpoint_Results is not set\")\n",
    "if EndPoint_NodeStatus is None:\n",
    "    raise ValueError(\"EndPoint_NodeStatus is not set\")\n",
    "print(\"Environment Variables are set OK\")"
   ]
  },
  {
   "cell_type": "code",
   "execution_count": 6,
   "metadata": {},
   "outputs": [
    {
     "name": "stdout",
     "output_type": "stream",
     "text": [
      "They have the followng traits:\n",
      "race: halfling\n",
      "complection: ruddy\n",
      "height: short\n",
      "build: muscular\n",
      "feature: sharp\n",
      "eye: bright\n",
      "hair: long\n",
      "clothes: elegant\n",
      "sophistication: crude\n",
      "mannerism: boisterous\n",
      "virtue: loyal\n",
      "\n"
     ]
    }
   ],
   "source": [
    "#Example Use case -> character description generator for fantasy RPG\n",
    "#Takes a random dictionary of character traits and generates a written character description\n",
    "\n",
    "races=[\"elf\",\"human\",\"dwarf\",\"halfling\",\"gnome\"]\n",
    "complections=[\"pale\",\"dark\",\"fair\",\"ruddy\",\"swarthy\"]\n",
    "heights=[\"tall\",\"short\",\"average\"]\n",
    "builds=[\"slender\",\"stocky\",\"muscular\",\"portly\"]\n",
    "features=[\"sharp\",\"soft\",\"angular\",\"round\"]\n",
    "eyes=[\"bright\",\"dark\",\"piercing\",\"dull\"]\n",
    "hairs=[\"long\",\"short\",\"curly\",\"straight\",\"wavy\"]\n",
    "clothes=[\"fine\",\"simple\",\"elegant\",\"gaudy\",\"tattered\"]\n",
    "sophistication=[\"refined\",\"crude\",\"simple\",\"complex\"]\n",
    "mannerisms=[\"graceful\",\"clumsy\",\"boisterous\",\"quiet\"]\n",
    "virtues=[\"honest\",\"loyal\",\"brave\",\"generous\",\"kind\"]\n",
    "\n",
    "\n",
    "import random\n",
    "\n",
    "#Come up with a random dictionary of character traits\n",
    "def GenerateCharacterDescDictionary():\n",
    "    traits={}\n",
    "    race=random.choice(races)\n",
    "    complection=random.choice(complections)\n",
    "    height=random.choice(heights)\n",
    "    build=random.choice(builds)\n",
    "    feature=random.choice(features)\n",
    "    eye=random.choice(eyes)\n",
    "    hair=random.choice(hairs)\n",
    "    clothe=random.choice(clothes)\n",
    "    sophisticate=random.choice(sophistication)\n",
    "    mannerism=random.choice(mannerisms)\n",
    "    virtue=random.choice(virtues)\n",
    "    traits={\"race\":race,\"complection\":complection,\"height\":height,\"build\":build,\"feature\":feature,\"eye\":eye,\"hair\":hair,\"clothes\":clothe,\"sophistication\":sophisticate,\"mannerism\":mannerism,\"virtue\":virtue}\n",
    "    return traits\n",
    "\n",
    "#Turn the dictionary into a line separated string\n",
    "def GenerateCharacterDescList(traits):\n",
    "    desc=\"They have the followng traits:\\n\"\n",
    "    for key in traits:\n",
    "        desc+=key+\": \"+traits[key]+\"\\n\"\n",
    "    return desc\n",
    "    \n",
    "            \n",
    "    \n",
    "#Test code\n",
    "traits=GenerateCharacterDescDictionary()\n",
    "print(GenerateCharacterDescList(traits))\n"
   ]
  },
  {
   "cell_type": "code",
   "execution_count": 7,
   "metadata": {},
   "outputs": [
    {
     "data": {
      "text/plain": [
       "['They have the followng traits:\\nrace: dwarf\\ncomplection: pale\\nheight: tall\\nbuild: slender\\nfeature: angular\\neye: bright\\nhair: curly\\nclothes: tattered\\nsophistication: simple\\nmannerism: clumsy\\nvirtue: loyal\\n',\n",
       " 'They have the followng traits:\\nrace: human\\ncomplection: swarthy\\nheight: average\\nbuild: slender\\nfeature: sharp\\neye: piercing\\nhair: wavy\\nclothes: tattered\\nsophistication: complex\\nmannerism: boisterous\\nvirtue: honest\\n',\n",
       " 'They have the followng traits:\\nrace: elf\\ncomplection: dark\\nheight: tall\\nbuild: stocky\\nfeature: sharp\\neye: piercing\\nhair: curly\\nclothes: elegant\\nsophistication: crude\\nmannerism: graceful\\nvirtue: loyal\\n',\n",
       " 'They have the followng traits:\\nrace: human\\ncomplection: pale\\nheight: tall\\nbuild: slender\\nfeature: round\\neye: piercing\\nhair: wavy\\nclothes: gaudy\\nsophistication: complex\\nmannerism: clumsy\\nvirtue: honest\\n',\n",
       " 'They have the followng traits:\\nrace: elf\\ncomplection: ruddy\\nheight: average\\nbuild: slender\\nfeature: round\\neye: bright\\nhair: long\\nclothes: gaudy\\nsophistication: crude\\nmannerism: quiet\\nvirtue: loyal\\n',\n",
       " 'They have the followng traits:\\nrace: elf\\ncomplection: dark\\nheight: short\\nbuild: muscular\\nfeature: round\\neye: dark\\nhair: wavy\\nclothes: tattered\\nsophistication: simple\\nmannerism: boisterous\\nvirtue: honest\\n',\n",
       " 'They have the followng traits:\\nrace: gnome\\ncomplection: dark\\nheight: short\\nbuild: stocky\\nfeature: angular\\neye: dull\\nhair: curly\\nclothes: simple\\nsophistication: refined\\nmannerism: boisterous\\nvirtue: loyal\\n',\n",
       " 'They have the followng traits:\\nrace: halfling\\ncomplection: pale\\nheight: tall\\nbuild: muscular\\nfeature: sharp\\neye: dull\\nhair: wavy\\nclothes: tattered\\nsophistication: refined\\nmannerism: boisterous\\nvirtue: kind\\n',\n",
       " 'They have the followng traits:\\nrace: gnome\\ncomplection: pale\\nheight: tall\\nbuild: stocky\\nfeature: sharp\\neye: bright\\nhair: curly\\nclothes: tattered\\nsophistication: complex\\nmannerism: graceful\\nvirtue: kind\\n',\n",
       " 'They have the followng traits:\\nrace: elf\\ncomplection: fair\\nheight: average\\nbuild: muscular\\nfeature: soft\\neye: dark\\nhair: short\\nclothes: gaudy\\nsophistication: simple\\nmannerism: quiet\\nvirtue: brave\\n']"
      ]
     },
     "execution_count": 7,
     "metadata": {},
     "output_type": "execute_result"
    }
   ],
   "source": [
    "#Produce sample character descriptions\n",
    "totalRecords=10\n",
    "requestTexts=[]\n",
    "for i in range(totalRecords):\n",
    "    traits=GenerateCharacterDescDictionary()\n",
    "    requestTexts.append(GenerateCharacterDescList(traits))\n",
    "requestTexts"
   ]
  },
  {
   "cell_type": "code",
   "execution_count": 8,
   "metadata": {},
   "outputs": [
    {
     "name": "stdout",
     "output_type": "stream",
     "text": [
      "llama3.1\n",
      "Queued message: bc9a3ee3-d3e6-43af-9374-446fc1abc40d\n",
      "llama3.1\n",
      "Queued message: bf3b0b15-2ec9-404e-a331-49b346b991d4\n",
      "llama3.1\n",
      "Queued message: 5dee14c4-80ec-4ff0-8103-d00e44956049\n",
      "llama3.1\n",
      "Queued message: 70459dd7-9c9e-4dff-b2db-861e70d9d42b\n",
      "llama3.1\n",
      "Queued message: 1c94c2fc-a884-4291-a30c-67635399005c\n",
      "llama3.1\n",
      "Queued message: 6b577115-3601-451d-be24-f06b0a5e17cc\n",
      "llama3.1\n",
      "Queued message: 44dd71a2-51a0-44e3-821e-e16369b6dd1e\n",
      "llama3.1\n",
      "Queued message: 5980331b-2dc3-49b2-9b6a-fee4e25eba8c\n",
      "llama3.1\n",
      "Queued message: 16b5613f-c956-4435-8971-fc0066377b4d\n",
      "llama3.1\n",
      "Queued message: a5523706-744e-4f65-a625-a7c2b7bbb060\n"
     ]
    }
   ],
   "source": [
    "#Main Function\n",
    "import json\n",
    "from typing import List\n",
    "import uuid\n",
    "from azure.servicebus import ServiceBusClient, ServiceBusMessage\n",
    "\n",
    "class LLMRequest:\n",
    "    def __init__(self,Model:str,systemMessage:str,query:str):\n",
    "        self.UUID=str(uuid.uuid4())\n",
    "        self.Model=Model\n",
    "        self.systemMessage=systemMessage\n",
    "        self.query=query\n",
    "\n",
    "    def to_json(self):\n",
    "        return self.__dict__\n",
    "    \n",
    "    def from_json(self,json_str):\n",
    "        self.__dict__=json.loads(json_str)\n",
    "\n",
    "#Post to a service bus queue    \n",
    "def AzurePost_ServiceBus(connection_string: str, queue_name: str, json_payload):\n",
    "    with ServiceBusClient.from_connection_string(connection_string) as client:\n",
    "        print(json_payload[\"Model\"])\n",
    "        sender = client.get_queue_sender(queue_name=queue_name)\n",
    "        message = ServiceBusMessage(json.dumps(json_payload))\n",
    "        with sender:\n",
    "            sender.send_messages(message)\n",
    "            print(f\"Queued message: {json_payload['UUID']}\")\n",
    "\n",
    "#Take a list of queries and turn them into results\n",
    "def BatchTransForm(Model:str,systemMessage:str,queries:List[str],DynamicUI:bool=True,WebUI:bool=False,ShowWebUI:bool=False)->List[str]:\n",
    "    \n",
    "    #Put every prompt into the LLM_Requests pool\n",
    "    LLMrequests=[]\n",
    "    for query in queries:\n",
    "        request=LLMRequest(Model,systemMessage,query)\n",
    "        LLMrequests.append(request)\n",
    "        AzurePost_ServiceBus(EndPoint_Queries,\"llm-queries\",request.to_json())\n",
    "    \n",
    "    #Monitor the results queue\n",
    "    \n",
    "    \n",
    "    #Output the results\n",
    "    \n",
    "#Test code\n",
    "systemPrompt=\"\"\"You are a science fiction fantasy writer writing beautifully creative descriptions from a list of character traits. \n",
    "You have a list of character traits, be creative and expand on this (going so far as to write a short background story if you wish).\n",
    "Try to keep it within medieval fantasy RPG lore and appropriate to this context.\n",
    "\"\"\"\n",
    "BatchTransForm(\"llama3.1\",systemPrompt,requestTexts)\n"
   ]
  }
 ],
 "metadata": {
  "kernelspec": {
   "display_name": "pyTorchCUDA",
   "language": "python",
   "name": "python3"
  },
  "language_info": {
   "codemirror_mode": {
    "name": "ipython",
    "version": 3
   },
   "file_extension": ".py",
   "mimetype": "text/x-python",
   "name": "python",
   "nbconvert_exporter": "python",
   "pygments_lexer": "ipython3",
   "version": "3.9.12"
  }
 },
 "nbformat": 4,
 "nbformat_minor": 2
}
